{
 "cells": [
  {
   "cell_type": "code",
   "execution_count": 2,
   "metadata": {},
   "outputs": [],
   "source": [
    "# Importing libraries \n",
    "import numpy as np\n",
    "import matplotlib.pyplot as plt\n",
    "from cvxpy import *\n",
    "import pandas as pd \n",
    "\n",
    "%matplotlib inline"
   ]
  },
  {
   "cell_type": "code",
   "execution_count": 6,
   "metadata": {},
   "outputs": [
    {
     "name": "stdout",
     "output_type": "stream",
     "text": [
      "    Departure_Time  Arrival_Time  Energy_Consumed\n",
      "0                6             9        31.560570\n",
      "1               19            22        23.040538\n",
      "2               14            15        54.050748\n",
      "3               10            13        98.708541\n",
      "4                7            10        31.784974\n",
      "..             ...           ...              ...\n",
      "95               6             8        48.536573\n",
      "96               8            12        96.998934\n",
      "97              23             4        96.725798\n",
      "98               0             1        86.770851\n",
      "99              11            12        36.500400\n",
      "\n",
      "[100 rows x 3 columns]\n"
     ]
    }
   ],
   "source": [
    "# In the next few cells we need to import price data and then \n",
    "# using if-else statements create Time of Use pricing on the timeseries\n",
    "# Using EvGO pay as you go data to create time of use prices in 24 hr format\n",
    "\n",
    "\n",
    "# Create an empty list to store the time-of-use prices\n",
    "tou_prices = []\n",
    "\n",
    "# Loop through all the hours in a day (0-23)\n",
    "for hour in range(24):\n",
    "    if 0 <= hour < 8:  # 12-8am\n",
    "        price = 0.39\n",
    "    elif 8 <= hour < 16:  # 8am-4pm\n",
    "        price = 0.51\n",
    "    elif 16 <= hour < 21:  # 4pm-9pm\n",
    "        price = 0.59\n",
    "    else:  # 9pm-12am\n",
    "        price = 0.51\n",
    "    \n",
    "    # Append the hour and price to the list\n",
    "    tou_prices.append([hour, price])\n",
    "\n",
    "# Create a data frame using the tou_prices list\n",
    "df_tou_prices = pd.DataFrame(tou_prices, columns=['Hour', 'Price'])\n",
    "\n",
    "# Display the data frame\n",
    "print(df)\n"
   ]
  },
  {
   "cell_type": "code",
   "execution_count": 24,
   "metadata": {},
   "outputs": [
    {
     "name": "stdout",
     "output_type": "stream",
     "text": [
      "   Departure_Time  Arrival_Time  Energy_Consumed  Distance_Travelled\n",
      "0               6             9        31.560570          195.623376\n",
      "1              19            22        23.040538          426.312652\n",
      "2              14            15        54.050748          161.876393\n",
      "3              10            13        98.708541           88.898910\n",
      "4               7            10        31.784974          280.616625\n"
     ]
    }
   ],
   "source": [
    " ## import pandas as pd\n",
    "import numpy as np\n",
    "\n",
    "# Set the seed for reproducibility\n",
    "np.random.seed(42)\n",
    "\n",
    "# Generate random departure and arrival times (in hours)\n",
    "num_records = 100\n",
    "departure_times = np.random.randint(0, 24, num_records)\n",
    "arrival_times = (departure_times + np.random.randint(1, 6, num_records)) % 24\n",
    "\n",
    "# Generate random energy consumed (in kWh)\n",
    "energy_consumed = np.random.uniform(10, 100, num_records)\n",
    "distance_travelled = np.random.uniform(5, 500, num_records)\n",
    "\n",
    "# Create a data frame using the generated values\n",
    "data = {\n",
    "    'Departure_Time': departure_times,\n",
    "    'Arrival_Time': arrival_times,\n",
    "    'Energy_Consumed': energy_consumed,\n",
    "    'Distance_Travelled': distance_travelled\n",
    "}\n",
    "df_dp = pd.DataFrame(data)\n",
    "\n",
    "# Display the data frame\n",
    "print(df_dp.head())\n"
   ]
  },
  {
   "cell_type": "code",
   "execution_count": 25,
   "metadata": {},
   "outputs": [
    {
     "name": "stdout",
     "output_type": "stream",
     "text": [
      "   Departure_Time  Arrival_Time  Energy_Consumed  Hour  Price    Revenue\n",
      "0               6             9        31.560570     6   0.39  13.298622\n",
      "1              19            22        23.040538    19   0.59  14.583918\n",
      "2              14            15        54.050748    14   0.51  28.555882\n",
      "3              10            13        98.708541    10   0.51  51.331356\n",
      "4               7            10        31.784974     7   0.39  13.386140\n"
     ]
    }
   ],
   "source": [
    "# Merge the data frame with the time-of-use prices data frame\n",
    "df_merged = df.merge(df_tou_prices, left_on='Departure_Time', right_on='Hour', how='left')\n",
    "\n",
    "# Calculate the revenue for each record\n",
    "base_fee = 0.99\n",
    "df_merged['Revenue'] = base_fee + (df_merged['Energy_Consumed'] * df_merged['Price'])\n",
    "\n",
    "# Display the merged data frame with the revenue column\n",
    "print(df_merged.head())\n"
   ]
  },
  {
   "cell_type": "code",
   "execution_count": 26,
   "metadata": {},
   "outputs": [
    {
     "name": "stdout",
     "output_type": "stream",
     "text": [
      "    Hour  Price  Base_Fee\n",
      "0      0    0.5      0.99\n",
      "1      1    0.5      0.99\n",
      "2      2    0.5      0.99\n",
      "3      3    0.5      0.99\n",
      "4      4    0.5      0.99\n",
      "5      5    0.5      0.99\n",
      "6      6    0.5      0.99\n",
      "7      7    0.5      0.99\n",
      "8      8    0.5      0.99\n",
      "9      9    0.5      0.99\n",
      "10    10    0.5      0.99\n",
      "11    11    0.5      0.99\n",
      "12    12    0.5      0.99\n",
      "13    13    0.5      0.99\n",
      "14    14    0.5      0.99\n",
      "15    15    0.5      0.99\n",
      "16    16    0.5      0.99\n",
      "17    17    0.5      0.99\n",
      "18    18    0.5      0.99\n",
      "19    19    0.5      0.99\n",
      "20    20    0.5      0.99\n",
      "21    21    0.5      0.99\n",
      "22    22    0.5      0.99\n",
      "23    23    0.5      0.99\n"
     ]
    }
   ],
   "source": [
    "import pandas as pd\n",
    "\n",
    "# Create an empty list to store the prices and base fees\n",
    "prices_and_base_fees = []\n",
    "\n",
    "# Loop through all the hours in a day (0-23)\n",
    "for hour in range(24):\n",
    "    price = 0.5\n",
    "    base_fee = 0.99\n",
    "    prices_and_base_fees.append([hour, price, base_fee])\n",
    "\n",
    "# Create a data frame using the prices and base fees list\n",
    "df_sched = pd.DataFrame(prices_and_base_fees, columns=['Hour', 'Price', 'Base_Fee'])\n",
    "\n",
    "# Display the data frame\n",
    "print(df_sched)\n"
   ]
  },
  {
   "cell_type": "code",
   "execution_count": 39,
   "metadata": {},
   "outputs": [],
   "source": [
    "dt=1\n",
    "\n",
    "SOCmin= 0.2\n",
    "SOCmax=0.8\n",
    "Pmax = 11*10**3"
   ]
  },
  {
   "cell_type": "markdown",
   "metadata": {},
   "source": [
    "## Optimizer Function"
   ]
  },
  {
   "cell_type": "markdown",
   "metadata": {},
   "source": [
    "This function should ideally take in the chargemode preference and the driver profile, which contains information about the car efficiency etc, and output ideal time intervals for charging. This could be a good way for people to better understand how to create saving behaviours."
   ]
  },
  {
   "cell_type": "code",
   "execution_count": 40,
   "metadata": {},
   "outputs": [],
   "source": [
    "def optimizer(SOC0, E, c, N, chargemode, Qcap, efficiency):\n",
    "    # SOC0 is initial state of charge, \n",
    "    # E is energy needed in the charge,\n",
    "    # c is the cost of charging in one day ie from hours 0-24\n",
    "    # N is the number of data points\n",
    "    # chargemode is whatever is specified ie naive vs scheduled\n",
    "    # Qcap is battery capacity\n",
    "    # efficiency is specified efficiency\n",
    "    \n",
    "    P = Variable(N)\n",
    "    SOC= Variable(N+1)\n",
    "    \n",
    "    #defining obj function\n",
    "    if chargemode==\"sched\":\n",
    "        objective= Minimize(dt* c.T @P)\n",
    "    elif chargemode==\"naive\":\n",
    "        objective= Maximize(dt*np.ones([1, N+1]) @ SOC*1000)\n",
    "    \n",
    "    constraints = [SOC[0]==SOC0]\n",
    "    \n",
    "    # SOC should be equal to the required energy but if this is more than \n",
    "    # SOCMax then just set goal to SOCMax\n",
    "    if not E/(Qcap) + SOCmin > SOCmax:\n",
    "        constraints += [SOC[N] >= E/ Qcap + SOCmin]\n",
    "    else: \n",
    "        constraints += [SOC[N] >= SOCmax]\n",
    "    \n",
    "    # Now we need to figure out the state of charge at each time point\n",
    "    for k in range(N):\n",
    "        constraints += [SOC[k+1] == SOC[k]+(dt/Qcap)*P[k]*efficiency]\n",
    "        \n",
    "        constraints += [0 <= P[k], P[k]<=Pmax]\n",
    "        \n",
    "    for k in range(N):\n",
    "        constraints += [SOCmin <= SOC[k], SOC[k]<= SOCmax]\n",
    "    \n",
    "    \n",
    "    prob= Problem(objective, constraints)\n",
    "    prob.solve(verbose=True, max_iters=100, abstol=1e-9)\n",
    "    if prob.status not in [\"unbounded\", \"infeasible\"]:\n",
    "        cost= np.sum(np.multiply(c, P.value/1000))\n",
    "    else:\n",
    "        cost=float(\"inf\")\n",
    "    \n",
    "    return(cost, P.value, SOC.value)\n",
    "        \n",
    "        \n",
    "    "
   ]
  },
  {
   "cell_type": "code",
   "execution_count": 41,
   "metadata": {},
   "outputs": [],
   "source": [
    "def case(chargemode, elecprices, car, verbose=True):\n",
    "    sim_df= pd.DataFrame(0, index=np.arange(np.shape(df_sched)[0]), columns=['costhr', 'P', 'SOC'])\n",
    "    # df_DE is a df of electricity prices\n",
    "    sim_df.index = df_sched.index\n",
    "    \n",
    "    \n",
    "    ## Car dynamics \n",
    "    if car=='ModelS':\n",
    "        avg_cons = 152 # Avg consumption from EV database\n",
    "        efficiency= 152/190 #190 is rated consumption\n",
    "        Qcap= 95\n",
    "        energy_cons = df_dp['Distance_Travelled']*avg_cons\n",
    "        df_dp['Energy Consumption']= energy_cons\n",
    "    if car=='Mustang':\n",
    "        avg_cons = 152 # Avg consumption from EV database\n",
    "        efficiency= 152/173 #190 is rated consumption\n",
    "        Qcap= 91\n",
    "        energy_cons = df_dp['Distance_Travelled']*avg_cons\n",
    "        df_dp['Energy Consumption']= energy_cons\n",
    "    if car=='Ioniq':\n",
    "        avg_cons = 127 # Avg consumption from EV database\n",
    "        efficiency= 127/151 #190 is rated consumption\n",
    "        Qcap= 74\n",
    "        energy_cons = df_dp['Distance_Travelled']*avg_cons\n",
    "        df_dp['Energy Consumption']= energy_cons\n",
    "    if car=='Kia':\n",
    "        avg_cons = 140 # Avg consumption from EV database\n",
    "        efficiency= 140/164 #190 is rated consumption\n",
    "        Qcap= 64.8\n",
    "        energy_cons = df_dp['Distance_Travelled']*avg_cons\n",
    "        df_dp['Energy Consumption']= energy_cons\n",
    "        \n",
    "    if chargemode==\"naive\":\n",
    "        df_prices = df_tou_prices\n",
    "    elif chargemode== \"sched\":\n",
    "        df_prices=  df_sched\n",
    "    \n",
    "    SOC0 = SOCmin\n",
    "    for i in range(1, np.shape(df_dp)[0]):\n",
    "        start = df_dp['Arrival_Time'][i-1]\n",
    "        end = df_dp[\"Departure_Time\"][i]\n",
    "        E= df_dp[\"Energy Consumption\"][i]\n",
    "        c= np.array(df_prices[start:end]['Price'])\n",
    "        N=len(c)\n",
    "        if chargemode==\"naive\":\n",
    "            (cost_i,P_i,SOC_i)=optimizer(SOC0, E, c, N, \"naive\", Qcap, efficiency)\n",
    "        elif chargemode==\"sched\":\n",
    "            (cost_i, P_i, SOC_i)=optimizer(SOC0, E, c, N, \"sched\", Qcap, efficiency)\n",
    "        \n",
    "        sim_df.loc[start:end, 'costhr']= np.multiply(c, P_i/1000)\n",
    "        sim_df.loc[start:end,'P']=P_i\n",
    "        sim_df.loc[start:end, 'SOC']=SOC_i\n",
    "        SOCN = SOC_i[N]\n",
    "        if not SOC_i[N]- E/Qcap <SOCmin:\n",
    "            SOC0= SOC_i[N]- E/(Qcap)\n",
    "        else:\n",
    "            SOC0= SOCmin\n",
    "        chargedelec= np.sum(P_i)\n",
    "    \n",
    "    return sim_df\n",
    "    \n",
    "    "
   ]
  },
  {
   "cell_type": "code",
   "execution_count": 42,
   "metadata": {},
   "outputs": [
    {
     "name": "stdout",
     "output_type": "stream",
     "text": [
      "===============================================================================\n",
      "                                     CVXPY                                     \n",
      "                                     v1.2.2                                    \n",
      "===============================================================================\n",
      "(CVXPY) Apr 17 11:37:13 AM: Your problem has 21 variables, 52 constraints, and 0 parameters.\n",
      "(CVXPY) Apr 17 11:37:13 AM: It is compliant with the following grammars: DCP, DQCP\n",
      "(CVXPY) Apr 17 11:37:13 AM: (If you need to solve this problem multiple times, but with different data, consider using parameters.)\n",
      "(CVXPY) Apr 17 11:37:13 AM: CVXPY will first compile your problem; then, it will invoke a numerical solver to obtain a solution.\n",
      "-------------------------------------------------------------------------------\n",
      "                                  Compilation                                  \n",
      "-------------------------------------------------------------------------------\n",
      "(CVXPY) Apr 17 11:37:13 AM: Compiling problem (target solver=ECOS).\n",
      "(CVXPY) Apr 17 11:37:13 AM: Reduction chain: Dcp2Cone -> CvxAttr2Constr -> ConeMatrixStuffing -> ECOS\n",
      "(CVXPY) Apr 17 11:37:13 AM: Applying reduction Dcp2Cone\n",
      "(CVXPY) Apr 17 11:37:13 AM: Applying reduction CvxAttr2Constr\n",
      "(CVXPY) Apr 17 11:37:13 AM: Applying reduction ConeMatrixStuffing\n",
      "(CVXPY) Apr 17 11:37:13 AM: Applying reduction ECOS\n",
      "(CVXPY) Apr 17 11:37:13 AM: Finished problem compilation (took 1.241e-01 seconds).\n",
      "-------------------------------------------------------------------------------\n",
      "                                Numerical solver                               \n",
      "-------------------------------------------------------------------------------\n",
      "(CVXPY) Apr 17 11:37:13 AM: Invoking solver ECOS  to obtain a solution.\n",
      "-------------------------------------------------------------------------------\n",
      "                                    Summary                                    \n",
      "-------------------------------------------------------------------------------\n",
      "(CVXPY) Apr 17 11:37:13 AM: Problem status: optimal\n",
      "(CVXPY) Apr 17 11:37:13 AM: Optimal value: 2.640e+01\n",
      "(CVXPY) Apr 17 11:37:13 AM: Compilation took 1.241e-01 seconds\n",
      "(CVXPY) Apr 17 11:37:13 AM: Solver (including time spent in interface) took 2.604e-03 seconds\n"
     ]
    },
    {
     "ename": "ValueError",
     "evalue": "Must have equal len keys and value when setting with an iterable",
     "output_type": "error",
     "traceback": [
      "\u001b[0;31m---------------------------------------------------------------------------\u001b[0m",
      "\u001b[0;31mValueError\u001b[0m                                Traceback (most recent call last)",
      "\u001b[0;32m<ipython-input-42-510662d91764>\u001b[0m in \u001b[0;36m<module>\u001b[0;34m\u001b[0m\n\u001b[0;32m----> 1\u001b[0;31m \u001b[0ma\u001b[0m \u001b[0;34m=\u001b[0m \u001b[0mcase\u001b[0m\u001b[0;34m(\u001b[0m\u001b[0;34m'sched'\u001b[0m\u001b[0;34m,\u001b[0m \u001b[0mdf_sched\u001b[0m\u001b[0;34m,\u001b[0m \u001b[0;34m'Ioniq'\u001b[0m\u001b[0;34m)\u001b[0m\u001b[0;34m\u001b[0m\u001b[0;34m\u001b[0m\u001b[0m\n\u001b[0m",
      "\u001b[0;32m<ipython-input-41-47fad604f6e5>\u001b[0m in \u001b[0;36mcase\u001b[0;34m(chargemode, elecprices, car, verbose)\u001b[0m\n\u001b[1;32m     48\u001b[0m             \u001b[0;34m(\u001b[0m\u001b[0mcost_i\u001b[0m\u001b[0;34m,\u001b[0m \u001b[0mP_i\u001b[0m\u001b[0;34m,\u001b[0m \u001b[0mSOC_i\u001b[0m\u001b[0;34m)\u001b[0m\u001b[0;34m=\u001b[0m\u001b[0moptimizer\u001b[0m\u001b[0;34m(\u001b[0m\u001b[0mSOC0\u001b[0m\u001b[0;34m,\u001b[0m \u001b[0mE\u001b[0m\u001b[0;34m,\u001b[0m \u001b[0mc\u001b[0m\u001b[0;34m,\u001b[0m \u001b[0mN\u001b[0m\u001b[0;34m,\u001b[0m \u001b[0;34m\"sched\"\u001b[0m\u001b[0;34m,\u001b[0m \u001b[0mQcap\u001b[0m\u001b[0;34m,\u001b[0m \u001b[0mefficiency\u001b[0m\u001b[0;34m)\u001b[0m\u001b[0;34m\u001b[0m\u001b[0;34m\u001b[0m\u001b[0m\n\u001b[1;32m     49\u001b[0m \u001b[0;34m\u001b[0m\u001b[0m\n\u001b[0;32m---> 50\u001b[0;31m         \u001b[0msim_df\u001b[0m\u001b[0;34m.\u001b[0m\u001b[0mloc\u001b[0m\u001b[0;34m[\u001b[0m\u001b[0mstart\u001b[0m\u001b[0;34m:\u001b[0m\u001b[0mend\u001b[0m\u001b[0;34m,\u001b[0m \u001b[0;34m'costhr'\u001b[0m\u001b[0;34m]\u001b[0m\u001b[0;34m=\u001b[0m \u001b[0mnp\u001b[0m\u001b[0;34m.\u001b[0m\u001b[0mmultiply\u001b[0m\u001b[0;34m(\u001b[0m\u001b[0mc\u001b[0m\u001b[0;34m,\u001b[0m \u001b[0mP_i\u001b[0m\u001b[0;34m/\u001b[0m\u001b[0;36m1000\u001b[0m\u001b[0;34m)\u001b[0m\u001b[0;34m\u001b[0m\u001b[0;34m\u001b[0m\u001b[0m\n\u001b[0m\u001b[1;32m     51\u001b[0m         \u001b[0msim_df\u001b[0m\u001b[0;34m.\u001b[0m\u001b[0mloc\u001b[0m\u001b[0;34m[\u001b[0m\u001b[0mstart\u001b[0m\u001b[0;34m:\u001b[0m\u001b[0mend\u001b[0m\u001b[0;34m,\u001b[0m\u001b[0;34m'P'\u001b[0m\u001b[0;34m]\u001b[0m\u001b[0;34m=\u001b[0m\u001b[0mP_i\u001b[0m\u001b[0;34m\u001b[0m\u001b[0;34m\u001b[0m\u001b[0m\n\u001b[1;32m     52\u001b[0m         \u001b[0msim_df\u001b[0m\u001b[0;34m.\u001b[0m\u001b[0mloc\u001b[0m\u001b[0;34m[\u001b[0m\u001b[0mstart\u001b[0m\u001b[0;34m:\u001b[0m\u001b[0mend\u001b[0m\u001b[0;34m,\u001b[0m \u001b[0;34m'SOC'\u001b[0m\u001b[0;34m]\u001b[0m\u001b[0;34m=\u001b[0m\u001b[0mSOC_i\u001b[0m\u001b[0;34m\u001b[0m\u001b[0;34m\u001b[0m\u001b[0m\n",
      "\u001b[0;32m~/opt/anaconda3/lib/python3.8/site-packages/pandas/core/indexing.py\u001b[0m in \u001b[0;36m__setitem__\u001b[0;34m(self, key, value)\u001b[0m\n\u001b[1;32m    847\u001b[0m \u001b[0;34m\u001b[0m\u001b[0m\n\u001b[1;32m    848\u001b[0m         \u001b[0miloc\u001b[0m \u001b[0;34m=\u001b[0m \u001b[0mself\u001b[0m \u001b[0;32mif\u001b[0m \u001b[0mself\u001b[0m\u001b[0;34m.\u001b[0m\u001b[0mname\u001b[0m \u001b[0;34m==\u001b[0m \u001b[0;34m\"iloc\"\u001b[0m \u001b[0;32melse\u001b[0m \u001b[0mself\u001b[0m\u001b[0;34m.\u001b[0m\u001b[0mobj\u001b[0m\u001b[0;34m.\u001b[0m\u001b[0miloc\u001b[0m\u001b[0;34m\u001b[0m\u001b[0;34m\u001b[0m\u001b[0m\n\u001b[0;32m--> 849\u001b[0;31m         \u001b[0miloc\u001b[0m\u001b[0;34m.\u001b[0m\u001b[0m_setitem_with_indexer\u001b[0m\u001b[0;34m(\u001b[0m\u001b[0mindexer\u001b[0m\u001b[0;34m,\u001b[0m \u001b[0mvalue\u001b[0m\u001b[0;34m,\u001b[0m \u001b[0mself\u001b[0m\u001b[0;34m.\u001b[0m\u001b[0mname\u001b[0m\u001b[0;34m)\u001b[0m\u001b[0;34m\u001b[0m\u001b[0;34m\u001b[0m\u001b[0m\n\u001b[0m\u001b[1;32m    850\u001b[0m \u001b[0;34m\u001b[0m\u001b[0m\n\u001b[1;32m    851\u001b[0m     \u001b[0;32mdef\u001b[0m \u001b[0m_validate_key\u001b[0m\u001b[0;34m(\u001b[0m\u001b[0mself\u001b[0m\u001b[0;34m,\u001b[0m \u001b[0mkey\u001b[0m\u001b[0;34m,\u001b[0m \u001b[0maxis\u001b[0m\u001b[0;34m:\u001b[0m \u001b[0mAxisInt\u001b[0m\u001b[0;34m)\u001b[0m\u001b[0;34m:\u001b[0m\u001b[0;34m\u001b[0m\u001b[0;34m\u001b[0m\u001b[0m\n",
      "\u001b[0;32m~/opt/anaconda3/lib/python3.8/site-packages/pandas/core/indexing.py\u001b[0m in \u001b[0;36m_setitem_with_indexer\u001b[0;34m(self, indexer, value, name)\u001b[0m\n\u001b[1;32m   1826\u001b[0m         \u001b[0;32mif\u001b[0m \u001b[0mtake_split_path\u001b[0m\u001b[0;34m:\u001b[0m\u001b[0;34m\u001b[0m\u001b[0;34m\u001b[0m\u001b[0m\n\u001b[1;32m   1827\u001b[0m             \u001b[0;31m# We have to operate column-wise\u001b[0m\u001b[0;34m\u001b[0m\u001b[0;34m\u001b[0m\u001b[0;34m\u001b[0m\u001b[0m\n\u001b[0;32m-> 1828\u001b[0;31m             \u001b[0mself\u001b[0m\u001b[0;34m.\u001b[0m\u001b[0m_setitem_with_indexer_split_path\u001b[0m\u001b[0;34m(\u001b[0m\u001b[0mindexer\u001b[0m\u001b[0;34m,\u001b[0m \u001b[0mvalue\u001b[0m\u001b[0;34m,\u001b[0m \u001b[0mname\u001b[0m\u001b[0;34m)\u001b[0m\u001b[0;34m\u001b[0m\u001b[0;34m\u001b[0m\u001b[0m\n\u001b[0m\u001b[1;32m   1829\u001b[0m         \u001b[0;32melse\u001b[0m\u001b[0;34m:\u001b[0m\u001b[0;34m\u001b[0m\u001b[0;34m\u001b[0m\u001b[0m\n\u001b[1;32m   1830\u001b[0m             \u001b[0mself\u001b[0m\u001b[0;34m.\u001b[0m\u001b[0m_setitem_single_block\u001b[0m\u001b[0;34m(\u001b[0m\u001b[0mindexer\u001b[0m\u001b[0;34m,\u001b[0m \u001b[0mvalue\u001b[0m\u001b[0;34m,\u001b[0m \u001b[0mname\u001b[0m\u001b[0;34m)\u001b[0m\u001b[0;34m\u001b[0m\u001b[0;34m\u001b[0m\u001b[0m\n",
      "\u001b[0;32m~/opt/anaconda3/lib/python3.8/site-packages/pandas/core/indexing.py\u001b[0m in \u001b[0;36m_setitem_with_indexer_split_path\u001b[0;34m(self, indexer, value, name)\u001b[0m\n\u001b[1;32m   1882\u001b[0m                     \u001b[0;32mreturn\u001b[0m \u001b[0mself\u001b[0m\u001b[0;34m.\u001b[0m\u001b[0m_setitem_with_indexer\u001b[0m\u001b[0;34m(\u001b[0m\u001b[0;34m(\u001b[0m\u001b[0mpi\u001b[0m\u001b[0;34m,\u001b[0m \u001b[0minfo_axis\u001b[0m\u001b[0;34m[\u001b[0m\u001b[0;36m0\u001b[0m\u001b[0;34m]\u001b[0m\u001b[0;34m)\u001b[0m\u001b[0;34m,\u001b[0m \u001b[0mvalue\u001b[0m\u001b[0;34m[\u001b[0m\u001b[0;36m0\u001b[0m\u001b[0;34m]\u001b[0m\u001b[0;34m)\u001b[0m\u001b[0;34m\u001b[0m\u001b[0;34m\u001b[0m\u001b[0m\n\u001b[1;32m   1883\u001b[0m \u001b[0;34m\u001b[0m\u001b[0m\n\u001b[0;32m-> 1884\u001b[0;31m                 raise ValueError(\n\u001b[0m\u001b[1;32m   1885\u001b[0m                     \u001b[0;34m\"Must have equal len keys and value \"\u001b[0m\u001b[0;34m\u001b[0m\u001b[0;34m\u001b[0m\u001b[0m\n\u001b[1;32m   1886\u001b[0m                     \u001b[0;34m\"when setting with an iterable\"\u001b[0m\u001b[0;34m\u001b[0m\u001b[0;34m\u001b[0m\u001b[0m\n",
      "\u001b[0;31mValueError\u001b[0m: Must have equal len keys and value when setting with an iterable"
     ]
    }
   ],
   "source": [
    "a = case('sched', df_sched, 'Ioniq')"
   ]
  },
  {
   "cell_type": "code",
   "execution_count": null,
   "metadata": {},
   "outputs": [],
   "source": []
  }
 ],
 "metadata": {
  "kernelspec": {
   "display_name": "Python 3",
   "language": "python",
   "name": "python3"
  },
  "language_info": {
   "codemirror_mode": {
    "name": "ipython",
    "version": 3
   },
   "file_extension": ".py",
   "mimetype": "text/x-python",
   "name": "python",
   "nbconvert_exporter": "python",
   "pygments_lexer": "ipython3",
   "version": "3.8.3"
  }
 },
 "nbformat": 4,
 "nbformat_minor": 4
}
